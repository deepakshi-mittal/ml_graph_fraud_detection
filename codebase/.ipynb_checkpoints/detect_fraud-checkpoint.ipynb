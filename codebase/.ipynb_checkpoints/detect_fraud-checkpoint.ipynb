{
 "cells": [
  {
   "cell_type": "markdown",
   "metadata": {},
   "source": [
    "# Fraud Detection with Graph databases and Machine Learning"
   ]
  },
  {
   "cell_type": "markdown",
   "metadata": {},
   "source": [
    "## Importing the required Python libraries"
   ]
  },
  {
   "cell_type": "code",
   "execution_count": null,
   "metadata": {},
   "outputs": [],
   "source": [
    "import numpy as np\n",
    "import pandas as pd\n",
    "from py2neo import Graph\n",
    "from sklearn.preprocessing import StandardScaler, LabelEncoder\n",
    "from sklearn.model_selection import KFold, train_test_split, StratifiedKFold\n",
    "from sklearn.svm import SVC\n",
    "from sklearn.ensemble import RandomForestClassifier\n",
    "from sklearn.linear_model import LogisticRegression\n",
    "from sklearn.metrics import accuracy_score, precision_recall_fscore_support, classification_report\n",
    "from imblearn.over_sampling import SMOTE \n",
    "from collections import Counter\n",
    "from sklearn.decomposition import PCA"
   ]
  },
  {
   "cell_type": "markdown",
   "metadata": {},
   "source": [
    "## Loading and exploring the banksim dataset "
   ]
  },
  {
   "cell_type": "code",
   "execution_count": null,
   "metadata": {},
   "outputs": [],
   "source": [
    "banksim_df = pd.read_csv(\"../dataset/bs140513_032310.csv\")\n",
    "banksim_df.head()"
   ]
  },
  {
   "cell_type": "code",
   "execution_count": null,
   "metadata": {},
   "outputs": [],
   "source": [
    "banksim_df.info()"
   ]
  },
  {
   "cell_type": "markdown",
   "metadata": {},
   "source": [
    "Viewing the split of the output classes - fraudulent and genuine transactions"
   ]
  },
  {
   "cell_type": "code",
   "execution_count": null,
   "metadata": {},
   "outputs": [],
   "source": [
    "banksim_df['fraud'].value_counts()"
   ]
  },
  {
   "cell_type": "code",
   "execution_count": null,
   "metadata": {},
   "outputs": [],
   "source": [
    "# Number of unique values per column in the banksim dataset\n",
    "banksim_df.nunique()"
   ]
  },
  {
   "cell_type": "markdown",
   "metadata": {},
   "source": [
    "## Preprocessing the data "
   ]
  },
  {
   "cell_type": "code",
   "execution_count": null,
   "metadata": {},
   "outputs": [],
   "source": [
    "# Obtaining the number of null values in each column\n",
    "banksim_df.isna().sum()"
   ]
  },
  {
   "cell_type": "markdown",
   "metadata": {},
   "source": [
    "Looks like there are no null values in the dataset."
   ]
  },
  {
   "cell_type": "code",
   "execution_count": null,
   "metadata": {},
   "outputs": [],
   "source": [
    "# Retrieving the class attribute from the dataframe\n",
    "Y_before_smote = banksim_df['fraud']\n",
    "Y_before_smote.head()"
   ]
  },
  {
   "cell_type": "code",
   "execution_count": null,
   "metadata": {},
   "outputs": [],
   "source": [
    "'''\n",
    "Removing unwanted columns\n",
    "Since zipcodeOri and zipMerchant have the same value for all the rows, these columns are redundant\n",
    "'''\n",
    "\n",
    "feature_df = banksim_df.drop(['step', 'customer', 'zipcodeOri', 'zipMerchant', 'fraud'], axis=1)"
   ]
  },
  {
   "cell_type": "code",
   "execution_count": null,
   "metadata": {},
   "outputs": [],
   "source": [
    "feature_df.head()"
   ]
  },
  {
   "cell_type": "code",
   "execution_count": null,
   "metadata": {},
   "outputs": [],
   "source": [
    "# One hot encoding the categorical variables\n",
    "feature_df = pd.get_dummies(feature_df, columns=['age', 'gender', 'category', 'merchant'])\n",
    "feature_df.head()"
   ]
  },
  {
   "cell_type": "code",
   "execution_count": null,
   "metadata": {},
   "outputs": [],
   "source": [
    "# Standardizing the features\n",
    "standard_scaler = StandardScaler()\n",
    "scaled_df = pd.DataFrame(standard_scaler.fit_transform(feature_df), columns = feature_df.columns)\n",
    "\n",
    "scaled_df.head()"
   ]
  },
  {
   "cell_type": "code",
   "execution_count": null,
   "metadata": {},
   "outputs": [],
   "source": [
    "# Performing dimensionality reduction using PCA\n",
    "\n",
    "# Limiting the number of components such that 95% of the variance is explained\n",
    "pca = PCA(0.95, svd_solver='full')\n",
    "scaled_df = pca.fit_transform(scaled_df)\n",
    "\n",
    "scaled_df.shape\n"
   ]
  },
  {
   "cell_type": "markdown",
   "metadata": {},
   "source": [
    "## Training supervised learning models using intrinsic features from the dataset"
   ]
  },
  {
   "cell_type": "code",
   "execution_count": null,
   "metadata": {},
   "outputs": [],
   "source": [
    "k_fold = StratifiedKFold(n_splits=5, random_state=None, shuffle=False)\n",
    "svm_classifier = SVC(gamma=\"auto\")\n",
    "random_forest = RandomForestClassifier(max_depth=20, n_estimators=150)\n",
    "logistic_regression = LogisticRegression(solver='lbfgs', max_iter=5000)\n",
    "labels = Y_before_smote"
   ]
  },
  {
   "cell_type": "code",
   "execution_count": null,
   "metadata": {},
   "outputs": [],
   "source": [
    "# Logistic Regression Classifier\n",
    "\n",
    "for train_index, test_index in k_fold.split(scaled_df, labels):\n",
    "\n",
    "    X_train, X_test = scaled_df[train_index], scaled_df[test_index]\n",
    "    y_train, y_test = labels[train_index], labels[test_index]\n",
    "\n",
    "    clf = logistic_regression.fit(X_train, y_train)\n",
    "    predictions = clf.predict(X_test)\n",
    "    \n",
    "    print(classification_report(y_test, predictions))\n",
    "    "
   ]
  },
  {
   "cell_type": "code",
   "execution_count": null,
   "metadata": {},
   "outputs": [],
   "source": [
    "# Testing the logistic regression classifier after performing oversampling on the training data using SMOTE \n",
    "\n",
    "X_train, X_test, y_train, y_test = train_test_split(scaled_df, labels, test_size=0.20)#, random_state=42, stratify='array-like')\n",
    "\n",
    "# Handling the imbalance in the dataset using SMOTE\n",
    "\n",
    "print('Original dataset shape %s' % Counter(Y_before_smote))\n",
    "\n",
    "#X_before_smote = X_train\n",
    "sm = SMOTE()#random_state=1)\n",
    "\n",
    "# Applying smote to dataset, result is nparray\n",
    "X_after_smote, Y_after_smote = sm.fit_resample(X_train, y_train)\n",
    "                                            \n",
    "                                               \n",
    "print('dataset shape after smote %s' % Counter(Y_after_smote))\n",
    "\n",
    "clf = logistic_regression.fit(X_after_smote, Y_after_smote)\n",
    "\n",
    "predictions = clf.predict(X_test)\n",
    "print(classification_report(y_test, predictions))"
   ]
  },
  {
   "cell_type": "code",
   "execution_count": null,
   "metadata": {},
   "outputs": [],
   "source": [
    "# Random Forest Classifier\n",
    "\n",
    "for train_index, test_index in k_fold.split(scaled_df, labels):\n",
    "\n",
    "    X_train, X_test = scaled_df[train_index], scaled_df[test_index]\n",
    "    y_train, y_test = labels[train_index], labels[test_index]\n",
    "\n",
    "    clf = random_forest.fit(X_train, y_train)\n",
    "    predictions = clf.predict(X_test)\n",
    "    \n",
    "    print(classification_report(y_test, predictions))\n",
    "    "
   ]
  },
  {
   "cell_type": "code",
   "execution_count": null,
   "metadata": {},
   "outputs": [],
   "source": [
    "\n",
    "# Testing the random forest classifier after performing oversampling on the training data using SMOTE \n",
    "\n",
    "X_train, X_test, y_train, y_test = train_test_split(scaled_df, labels, test_size=0.20)#, random_state=42, stratify='array-like')\n",
    "\n",
    "\n",
    "# Handling the imbalance in the dataset using SMOTE\n",
    "\n",
    "print('Original dataset shape %s' % Counter(Y_before_smote))\n",
    "\n",
    "#X_before_smote = X_train\n",
    "sm = SMOTE()#random_state=1)\n",
    "\n",
    "# Applying smote to dataset, result is nparray\n",
    "X_after_smote, Y_after_smote = sm.fit_resample(X_train, y_train)\n",
    "                                            \n",
    "                                               \n",
    "print('dataset shape after smote %s' % Counter(Y_after_smote))\n",
    "\n",
    "clf = random_forest.fit(X_after_smote, Y_after_smote)\n",
    "\n",
    "predictions = clf.predict(X_test)\n",
    "print(classification_report(y_test, predictions))"
   ]
  },
  {
   "cell_type": "code",
   "execution_count": null,
   "metadata": {},
   "outputs": [],
   "source": [
    "# SVM Classifier\n",
    "    \n",
    "X_train, X_test, y_train, y_test = train_test_split(scaled_df, labels, test_size=0.20)\n",
    "\n",
    "clf = svm_classifier.fit(X_train, y_train)\n",
    "predictions = clf.predict(X_test)\n",
    "    \n",
    "print(classification_report(y_test, predictions))"
   ]
  },
  {
   "cell_type": "markdown",
   "metadata": {},
   "source": [
    "## Extracting network features"
   ]
  },
  {
   "cell_type": "code",
   "execution_count": null,
   "metadata": {},
   "outputs": [],
   "source": [
    "# Connecting to the Neo4j database\n",
    "graph = Graph(password=\"password\")\n",
    "\n",
    "# Query to fetch the network features from Neo4j\n",
    "query = \"\"\"\n",
    "MATCH (p:Placeholder)\n",
    "RETURN p.id AS id, p.degree AS degree, p.pagerank as pagerank, p.community AS community \n",
    "\"\"\"\n",
    "\n",
    "data = graph.run(query)\n",
    "\n",
    "records = {}\n",
    "\n",
    "for record in data:\n",
    "    records[record['id']] = {'degree': record['degree'], 'pagerank': record['pagerank'], 'community': record['community']}\n"
   ]
  },
  {
   "cell_type": "code",
   "execution_count": null,
   "metadata": {},
   "outputs": [],
   "source": [
    "banksim_df = pd.read_csv(\"../dataset/bs140513_032310.csv\")\n"
   ]
  },
  {
   "cell_type": "code",
   "execution_count": null,
   "metadata": {},
   "outputs": [],
   "source": [
    "def load_degree(record):\n",
    "    return records[record.split(\"'\")[1]]['degree']\n",
    "def load_community(record):\n",
    "    return str(records[record.split(\"'\")[1]]['community'])\n",
    "def load_pagerank(record):\n",
    "    return records[record.split(\"'\")[1]]['pagerank']"
   ]
  },
  {
   "cell_type": "code",
   "execution_count": null,
   "metadata": {},
   "outputs": [],
   "source": [
    "banksim_df['merchant_degree'] = banksim_df['merchant'].apply(load_degree)\n",
    "banksim_df['customer_degree'] = banksim_df['customer'].apply(load_degree)\n",
    "banksim_df['merchant_pagerank'] = banksim_df['merchant'].apply(load_pagerank)\n",
    "banksim_df['customer_pagerank'] = banksim_df['customer'].apply(load_pagerank)\n",
    "banksim_df['merchant_community'] = banksim_df['merchant'].apply(load_community)\n",
    "banksim_df['customer_community'] = banksim_df['customer'].apply(load_community)"
   ]
  },
  {
   "cell_type": "code",
   "execution_count": null,
   "metadata": {},
   "outputs": [],
   "source": [
    "banksim_df.head()"
   ]
  },
  {
   "cell_type": "code",
   "execution_count": null,
   "metadata": {},
   "outputs": [],
   "source": [
    "banksim_df.info()"
   ]
  },
  {
   "cell_type": "code",
   "execution_count": null,
   "metadata": {},
   "outputs": [],
   "source": [
    "labels = banksim_df['fraud']\n",
    "\n",
    "# Dropping the unnecessary columns\n",
    "feature_df = banksim_df.drop(['step', 'age', 'gender', 'customer', 'zipcodeOri', 'zipMerchant', 'fraud'], axis=1)\n",
    "\n",
    "# One hot encoding the categorical variables\n",
    "feature_df = pd.get_dummies(feature_df, columns=['category', 'merchant', 'merchant_community', 'customer_community'])\n"
   ]
  },
  {
   "cell_type": "code",
   "execution_count": null,
   "metadata": {},
   "outputs": [],
   "source": [
    "# Standardizing the features\n",
    "standard_scaler = StandardScaler()\n",
    "scaled_df = pd.DataFrame(standard_scaler.fit_transform(feature_df), columns = feature_df.columns)\n",
    "\n",
    "scaled_df.head()"
   ]
  },
  {
   "cell_type": "code",
   "execution_count": null,
   "metadata": {},
   "outputs": [],
   "source": [
    "scaled_df = scaled_df.values\n",
    "labels = labels.values"
   ]
  },
  {
   "cell_type": "markdown",
   "metadata": {},
   "source": [
    "## Training supervised learning models using intrinsic features as well as graph based features"
   ]
  },
  {
   "cell_type": "code",
   "execution_count": null,
   "metadata": {},
   "outputs": [],
   "source": [
    "k_fold = StratifiedKFold(n_splits=5, random_state=None, shuffle=False)\n",
    "\n",
    "random_forest = RandomForestClassifier(max_depth=20, n_estimators=150)\n",
    "svm_classifier = SVC(gamma=\"auto\")\n",
    "logistic_regression = LogisticRegression(solver='lbfgs', max_iter=5000)\n"
   ]
  },
  {
   "cell_type": "code",
   "execution_count": null,
   "metadata": {},
   "outputs": [],
   "source": [
    "# Logistic Regression Classifier\n",
    "\n",
    "for train_index, test_index in k_fold.split(scaled_df, labels):\n",
    "\n",
    "    X_train, X_test = scaled_df[train_index], scaled_df[test_index]\n",
    "    y_train, y_test = labels[train_index], labels[test_index]\n",
    "\n",
    "    clf = logistic_regression.fit(X_train, y_train)\n",
    "    predictions = clf.predict(X_test)\n",
    "    \n",
    "    print(classification_report(y_test, predictions))"
   ]
  },
  {
   "cell_type": "code",
   "execution_count": null,
   "metadata": {},
   "outputs": [],
   "source": [
    "# Random Forest Classifier\n",
    "    \n",
    "X_train, X_test, y_train, y_test = train_test_split(scaled_df, labels, test_size=0.20)\n",
    "\n",
    "clf = random_forest.fit(X_train, y_train)\n",
    "predictions = clf.predict(X_test)\n",
    "    \n",
    "print(classification_report(y_test, predictions))"
   ]
  },
  {
   "cell_type": "code",
   "execution_count": null,
   "metadata": {},
   "outputs": [],
   "source": [
    "# SVM Classifier\n",
    "    \n",
    "X_train, X_test, y_train, y_test = train_test_split(scaled_df, labels, test_size=0.20)\n",
    "\n",
    "clf = svm_classifier.fit(X_train, y_train)\n",
    "predictions = clf.predict(X_test)\n",
    "    \n",
    "print(classification_report(y_test, predictions))"
   ]
  }
 ],
 "metadata": {
  "kernelspec": {
   "display_name": "Python 3 (ipykernel)",
   "language": "python",
   "name": "python3"
  },
  "language_info": {
   "codemirror_mode": {
    "name": "ipython",
    "version": 3
   },
   "file_extension": ".py",
   "mimetype": "text/x-python",
   "name": "python",
   "nbconvert_exporter": "python",
   "pygments_lexer": "ipython3",
   "version": "3.9.13"
  }
 },
 "nbformat": 4,
 "nbformat_minor": 2
}
